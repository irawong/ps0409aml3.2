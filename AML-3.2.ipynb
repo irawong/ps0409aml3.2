{
 "cells": [
  {
   "cell_type": "code",
   "execution_count": 1,
   "metadata": {
    "collapsed": true
   },
   "outputs": [],
   "source": [
    "import numpy as np\n",
    "import random\n",
    "from tqdm import tqdm\n",
    "np.random.seed(20190409)\n",
    "random.seed(20190409)"
   ]
  },
  {
   "cell_type": "code",
   "execution_count": 2,
   "metadata": {
    "collapsed": true
   },
   "outputs": [],
   "source": [
    "def create_dataset():\n",
    "    N, d = 1100, 2\n",
    "    W = np.random.random((d, 1)) - 0.5\n",
    "    b = np.random.random(1) - 0.5\n",
    "    \n",
    "    def random_line(x):\n",
    "        labels = np.array(np.matmul(W.transpose(), D.transpose()) + b >= 0,\n",
    "                          dtype=np.int)\n",
    "        labels = labels.squeeze()\n",
    "        return labels\n",
    "    \n",
    "    D = np.random.random(size=(N, d))\n",
    "    Y = random_line(D)\n",
    "    for index in random.sample(list(range(N)), N // 10):\n",
    "        Y[index] = abs(Y[index] - 1)\n",
    "    \n",
    "    N_train = 100\n",
    "    indices = np.array(np.random.random_sample(size=1100) > 0.5, dtype=np.int)\n",
    "    train_indices = [index for index, value in enumerate(indices) if value == 1][:N_train]\n",
    "    dev_indices = [index for index, _ in enumerate(indices) if index not in train_indices]\n",
    "\n",
    "    train_x, train_y = [], []\n",
    "    dev_x, dev_y = [], []\n",
    "    D, Y = D.tolist(), Y.tolist()\n",
    "    for index in train_indices:\n",
    "        train_x.append(D[index])\n",
    "        train_y.append(Y[index])\n",
    "    for index in dev_indices:\n",
    "        dev_x.append(D[index])\n",
    "        dev_y.append(Y[index])\n",
    "    train_x, train_y = np.array(train_x), np.array(train_y)\n",
    "    dev_x, dev_y = np.array(dev_x), np.array(dev_y)\n",
    "    return (train_x, train_y), (dev_x, dev_y)"
   ]
  },
  {
   "cell_type": "code",
   "execution_count": 3,
   "metadata": {
    "collapsed": true
   },
   "outputs": [],
   "source": [
    "def evaluate(x, y, W, b):\n",
    "    N, _ = x.shape\n",
    "    preds = np.array(np.matmul(W.transpose(), x.transpose()) + b >= 0,\n",
    "                     dtype=np.int)\n",
    "    preds = preds.squeeze()\n",
    "    errors = sum(preds != y)\n",
    "    return errors / N"
   ]
  },
  {
   "cell_type": "code",
   "execution_count": 4,
   "metadata": {
    "collapsed": true
   },
   "outputs": [],
   "source": [
    "def pla(x, y, W, b):\n",
    "    N, _ = x.shape\n",
    "    preds = np.array(np.matmul(W.transpose(), x.transpose()) + b >= 0,\n",
    "                     dtype=np.int)\n",
    "    preds = preds.squeeze()\n",
    "    misclassifieds = random.sample(np.arange(N)[preds != y].tolist(), 1)\n",
    "    if len(misclassifieds) == 0:\n",
    "        return W, b\n",
    "    else:\n",
    "        index = misclassifieds[0]\n",
    "        ins_x, ins_y = x[index], y[index]\n",
    "        if ins_y == 0:\n",
    "            ins_y = -1\n",
    "        W = W + (ins_y * ins_x)[np.newaxis, :].transpose()\n",
    "        b = b + ins_y\n",
    "        return W, b"
   ]
  },
  {
   "cell_type": "code",
   "execution_count": 5,
   "metadata": {
    "collapsed": true
   },
   "outputs": [],
   "source": [
    "def pocket_alg(dataset, T=1000):\n",
    "    (train_x, train_y), (dev_x, dev_y) = dataset\n",
    "    N, d = train_x.shape\n",
    "    W = np.zeros((d, 1))\n",
    "    b = np.random.random(1)\n",
    "    W_best, b_best = W.copy(), b.copy()\n",
    "    err_best = evaluate(train_x, train_y, W, b)\n",
    "    errs, errs_best = [err_best], [err_best]\n",
    "    test_err_best = evaluate(dev_x, dev_y, W, b)\n",
    "    test_errs, test_errs_best = [test_err_best], [test_err_best]\n",
    "    for t in range(T-1):\n",
    "        W, b = pla(train_x, train_y, W, b)\n",
    "        err = evaluate(train_x, train_y, W, b)\n",
    "        if err_best is None or err < err_best:\n",
    "            err_best = err\n",
    "            W_best, b_best = W.copy(), b.copy()\n",
    "        errs.append(err)\n",
    "        errs_best.append(err_best)\n",
    "        \n",
    "        test_err = evaluate(dev_x, dev_y, W, b)\n",
    "        test_errs.append(test_err)\n",
    "        test_err_best = evaluate(dev_x, dev_y, W_best, b_best)\n",
    "        test_errs_best.append(test_err_best)\n",
    "    return (errs, errs_best), (test_errs, test_errs_best)"
   ]
  },
  {
   "cell_type": "code",
   "execution_count": 6,
   "metadata": {
    "collapsed": true
   },
   "outputs": [],
   "source": [
    "def repeat(dataset, times, T):\n",
    "    arr_train_errs, arr_train_errs_best = np.zeros(T), np.zeros(T)\n",
    "    arr_test_errs, arr_test_errs_best = np.zeros(T), np.zeros(T)\n",
    "    for _ in tqdm(range(times)):\n",
    "        (train_errs, train_errs_best), (test_errs, test_errs_best) = pocket_alg(dataset, T=T)\n",
    "        arr_train_errs += train_errs\n",
    "        arr_train_errs_best += train_errs_best\n",
    "        arr_test_errs += test_errs\n",
    "        arr_test_errs_best += test_errs_best\n",
    "    arr_train_errs /= times\n",
    "    arr_train_errs_best /= times\n",
    "    arr_test_errs /= times\n",
    "    arr_test_errs_best /= times\n",
    "    return (arr_train_errs, arr_train_errs_best), (arr_test_errs, arr_test_errs_best)"
   ]
  },
  {
   "cell_type": "code",
   "execution_count": 7,
   "metadata": {},
   "outputs": [],
   "source": [
    "dataset = create_dataset()"
   ]
  },
  {
   "cell_type": "code",
   "execution_count": 8,
   "metadata": {},
   "outputs": [
    {
     "name": "stderr",
     "output_type": "stream",
     "text": [
      "100%|██████████| 20/20 [03:35<00:00, 10.76s/it]\n"
     ]
    }
   ],
   "source": [
    "errs = repeat(dataset, times=20, T=1000)"
   ]
  },
  {
   "cell_type": "code",
   "execution_count": 9,
   "metadata": {
    "collapsed": true
   },
   "outputs": [],
   "source": [
    "import matplotlib.pyplot as plt"
   ]
  },
  {
   "cell_type": "code",
   "execution_count": 10,
   "metadata": {
    "collapsed": true
   },
   "outputs": [],
   "source": [
    "%matplotlib inline"
   ]
  },
  {
   "cell_type": "code",
   "execution_count": 11,
   "metadata": {
    "scrolled": true
   },
   "outputs": [
    {
     "data": {
      "image/png": "[encoded data removed]",
      "text/plain": [
       "<matplotlib.figure.Figure at 0x7f379721c4e0>"
      ]
     },
     "metadata": {},
     "output_type": "display_data"
    }
   ],
   "source": [
    "X = np.arange(1000)\n",
    "(train_errs, train_errs_best), _ = errs\n",
    "plt.plot(X, train_errs)\n",
    "plt.plot(X, train_errs_best)\n",
    "plt.grid(alpha=0.4,linestyle=':')\n",
    "plt.show()"
   ]
  },
  {
   "cell_type": "code",
   "execution_count": 12,
   "metadata": {},
   "outputs": [
    {
     "data": {
      "image/png": "[encoded data removed]",
      "text/plain": [
       "<matplotlib.figure.Figure at 0x7f37971da080>"
      ]
     },
     "metadata": {},
     "output_type": "display_data"
    }
   ],
   "source": [
    "X = np.arange(1000)\n",
    "_, (test_errs, test_errs_best) = errs\n",
    "plt.plot(X, test_errs)\n",
    "plt.plot(X, test_errs_best)\n",
    "plt.grid(alpha=0.4,linestyle=':')\n",
    "plt.show()"
   ]
  },
  {
   "cell_type": "code",
   "execution_count": 13,
   "metadata": {},
   "outputs": [
    {
     "data": {
      "text/plain": [
       "array([0.65  , 0.35  , 0.645 , 0.3625, 0.602 , 0.3735, 0.6045, 0.381 ,\n",
       "       0.512 , 0.4115])"
      ]
     },
     "execution_count": 13,
     "metadata": {},
     "output_type": "execute_result"
    }
   ],
   "source": [
    "train_errs[:10]"
   ]
  },
  {
   "cell_type": "code",
   "execution_count": 14,
   "metadata": {},
   "outputs": [
    {
     "data": {
      "text/plain": [
       "array([0.65  , 0.35  , 0.35  , 0.345 , 0.345 , 0.333 , 0.333 , 0.3125,\n",
       "       0.3125, 0.298 ])"
      ]
     },
     "execution_count": 14,
     "metadata": {},
     "output_type": "execute_result"
    }
   ],
   "source": [
    "train_errs_best[:10]"
   ]
  },
  {
   "cell_type": "code",
   "execution_count": 15,
   "metadata": {
    "scrolled": true
   },
   "outputs": [
    {
     "data": {
      "text/plain": [
       "array([0.679  , 0.321  , 0.6737 , 0.33625, 0.621  , 0.36145, 0.62425,\n",
       "       0.38205, 0.5151 , 0.42735])"
      ]
     },
     "execution_count": 15,
     "metadata": {},
     "output_type": "execute_result"
    }
   ],
   "source": [
    "test_errs[:10]"
   ]
  },
  {
   "cell_type": "code",
   "execution_count": 16,
   "metadata": {
    "scrolled": true
   },
   "outputs": [
    {
     "data": {
      "text/plain": [
       "array([0.679  , 0.321  , 0.321  , 0.32065, 0.32065, 0.31465, 0.31465,\n",
       "       0.30235, 0.30235, 0.28955])"
      ]
     },
     "execution_count": 16,
     "metadata": {},
     "output_type": "execute_result"
    }
   ],
   "source": [
    "test_errs_best[:10]"
   ]
  }
 ],
 "metadata": {
  "kernelspec": {
   "display_name": "Python3 (docqa)",
   "language": "python",
   "name": "docqa"
  },
  "language_info": {
   "codemirror_mode": {
    "name": "ipython",
    "version": 3
   },
   "file_extension": ".py",
   "mimetype": "text/x-python",
   "name": "python",
   "nbconvert_exporter": "python",
   "pygments_lexer": "ipython3",
   "version": "3.6.1"
  }
 },
 "nbformat": 4,
 "nbformat_minor": 2
}
